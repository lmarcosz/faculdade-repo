{
  "cells": [
    {
      "cell_type": "markdown",
      "metadata": {
        "tags": []
      },
      "source": [
        "André Caly Bortolotto (RA: 158436)\n",
        "Marcos Lucas da Silva (RA: 140782)"
      ]
    },
    {
      "cell_type": "code",
      "execution_count": 1,
      "metadata": {
        "tags": []
      },
      "outputs": [
        {
          "ename": "ModuleNotFoundError",
          "evalue": "No module named 'numpy'",
          "output_type": "error",
          "traceback": [
            "\u001b[1;31m---------------------------------------------------------------------------\u001b[0m",
            "\u001b[1;31mModuleNotFoundError\u001b[0m                       Traceback (most recent call last)",
            "Cell \u001b[1;32mIn[1], line 2\u001b[0m\n\u001b[0;32m      1\u001b[0m \u001b[39mimport\u001b[39;00m \u001b[39mmath\u001b[39;00m\n\u001b[1;32m----> 2\u001b[0m \u001b[39mimport\u001b[39;00m \u001b[39mnumpy\u001b[39;00m \u001b[39mas\u001b[39;00m \u001b[39mnp\u001b[39;00m\n\u001b[0;32m      3\u001b[0m \u001b[39mfrom\u001b[39;00m \u001b[39mmatplotlib\u001b[39;00m \u001b[39mimport\u001b[39;00m pyplot \u001b[39mas\u001b[39;00m plt\n\u001b[0;32m      5\u001b[0m vi \u001b[39m=\u001b[39m \u001b[39m40\u001b[39m \u001b[39m#velocidade inicial v(0)\u001b[39;00m\n",
            "\u001b[1;31mModuleNotFoundError\u001b[0m: No module named 'numpy'"
          ]
        }
      ],
      "source": [
        "import math\n",
        "import numpy as np\n",
        "from matplotlib import pyplot as plt\n",
        "\n",
        "vi = 40 #velocidade inicial v(0)\n",
        "theta = math.radians(60) #angulo de lançamento\n",
        "vx = vi*math.cos(theta) #velocidade na componente x\n",
        "vy = vi*math.sin(theta) #velocidade na componente y\n",
        "px = 0 #posicao x inicial\n",
        "py = 0 #posicao y inicial (altura inicial y(0))\n",
        "temp_sim = 10 #tempo total de simulacao\n",
        "t = 0 #contador de tempo\n",
        "dt = 0.01 #variação de tempo\n",
        "g = -9.8 #aceleração da gravidade\n",
        "k = 50 #parametro de atrito\n",
        "m = 10 #massa do corpo\n",
        "ep = 0 #energia potencial gravitacional\n",
        "\n",
        "lista_py = []\n",
        "lista_t = []\n",
        "lista_ep = []\n",
        "\n",
        "while temp_sim>=t:\n",
        "    vy = vy + (g-(k/m)*vy)*dt #velocidade vertical variável\n",
        "    px = px + vx*dt #posição horizontal não variável (MRU)\n",
        "    py = py + vy*dt #posição vertical variável\n",
        "    t += dt #tempo variando com o acumulo de dt\n",
        "    ep = -m*g*py #energia potencial gravitacional\n",
        "    \n",
        "    lista_ep.append(ep)\n",
        "    lista_py.append(py)\n",
        "    lista_t.append(t)\n",
        "    \n",
        "    if py<=0:\n",
        "        break #condição de parada do laço\n",
        "\n",
        "#Equação do Deslocamento\n",
        "plt.xlabel(\"Tempo (s)\")\n",
        "plt.ylabel(\"Altura (m)\")\n",
        "plt.plot(lista_t,lista_py)\n",
        "plt.show()\n",
        "\n",
        "#Equação da Energia Potencial Gravitacional\n",
        "plt.xlabel(\"Tempo (s)\")\n",
        "plt.ylabel(\"Energia Potencial Gravitacional(J)\")\n",
        "plt.plot(lista_t, lista_ep)\n",
        "plt.show()"
      ]
    },
    {
      "cell_type": "code",
      "execution_count": null,
      "metadata": {
        "tags": []
      },
      "outputs": [],
      "source": []
    }
  ],
  "metadata": {
    "kernelspec": {
      "display_name": "Python 3",
      "language": "python",
      "name": "python3"
    },
    "language_info": {
      "codemirror_mode": {
        "name": "ipython",
        "version": 3
      },
      "file_extension": ".py",
      "mimetype": "text/x-python",
      "name": "python",
      "nbconvert_exporter": "python",
      "pygments_lexer": "ipython3",
      "version": "3.10.11"
    }
  },
  "nbformat": 4,
  "nbformat_minor": 4
}
